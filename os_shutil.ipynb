{
 "cells": [
  {
   "cell_type": "code",
   "execution_count": 1,
   "id": "a0d2a53f",
   "metadata": {},
   "outputs": [
    {
     "name": "stdout",
     "output_type": "stream",
     "text": [
      "Hello Coder!\n"
     ]
    }
   ],
   "source": [
    "print(\"Hello Coder!\")"
   ]
  },
  {
   "cell_type": "markdown",
   "id": "1b27fa07",
   "metadata": {},
   "source": [
    "## os Module"
   ]
  },
  {
   "cell_type": "code",
   "execution_count": 1,
   "id": "1c309c5c",
   "metadata": {},
   "outputs": [],
   "source": [
    "import os"
   ]
  },
  {
   "cell_type": "markdown",
   "id": "ae5bd21d",
   "metadata": {},
   "source": [
    "Checking the Current Working Directory"
   ]
  },
  {
   "cell_type": "code",
   "execution_count": 2,
   "id": "5d44f2fd",
   "metadata": {},
   "outputs": [
    {
     "name": "stdout",
     "output_type": "stream",
     "text": [
      "Current working directory: c:\\Users\\LENOVO\\Desktop\\CurriculumDesign\\Python\\Code\\New Classes\\Class 38\\os_shutil_demo_teacher\n"
     ]
    }
   ],
   "source": [
    "path = os.getcwd()\n",
    "\n",
    "print(f\"Current working directory: {path}\")"
   ]
  },
  {
   "cell_type": "markdown",
   "id": "9f4a0a09",
   "metadata": {},
   "source": [
    "Listing All Files and Folders"
   ]
  },
  {
   "cell_type": "code",
   "execution_count": 3,
   "id": "a7c8c8f8",
   "metadata": {},
   "outputs": [
    {
     "name": "stdout",
     "output_type": "stream",
     "text": [
      "Items in the current directory: ['data.txt', 'notes.txt', 'os_shutil.ipynb', 'projects', 'to_delete']\n"
     ]
    }
   ],
   "source": [
    "items = os.listdir()\n",
    "\n",
    "print(\"Items in the current directory:\", items)"
   ]
  },
  {
   "cell_type": "markdown",
   "id": "3372dae4",
   "metadata": {},
   "source": [
    "Checking if a File or Folder Exists"
   ]
  },
  {
   "cell_type": "code",
   "execution_count": 4,
   "id": "19f43116",
   "metadata": {},
   "outputs": [
    {
     "name": "stdout",
     "output_type": "stream",
     "text": [
      "Does it exist? True\n"
     ]
    }
   ],
   "source": [
    "exists = os.path.exists(\"data.txt\")\n",
    "print(\"Does it exist?\", exists)"
   ]
  },
  {
   "cell_type": "code",
   "execution_count": null,
   "id": "b6cd27ee",
   "metadata": {},
   "outputs": [
    {
     "name": "stdout",
     "output_type": "stream",
     "text": [
      "Does it exist? True\n"
     ]
    }
   ],
   "source": [
    "exists = os.path.exists(\"C:/Users/LENOVO/Desktop/CurriculumDesign/Python/Code/New Classes/Class 38/os_shutil_demo_teacher/projects/project1\")\n",
    "print(\"Does it exist?\", exists)"
   ]
  },
  {
   "cell_type": "code",
   "execution_count": 6,
   "id": "4b929dae",
   "metadata": {},
   "outputs": [
    {
     "name": "stdout",
     "output_type": "stream",
     "text": [
      "Does it exist? True\n"
     ]
    }
   ],
   "source": [
    "exists = os.path.exists(\"projects/project2/main.py\")\n",
    "print(\"Does it exist?\", exists)"
   ]
  },
  {
   "cell_type": "code",
   "execution_count": 8,
   "id": "bac9f779",
   "metadata": {},
   "outputs": [
    {
     "name": "stdout",
     "output_type": "stream",
     "text": [
      "Does it exist? False\n"
     ]
    }
   ],
   "source": [
    "exists = os.path.exists(\"non_existent_file.txt\")\n",
    "print(\"Does it exist?\", exists)"
   ]
  },
  {
   "cell_type": "markdown",
   "id": "76f36da4",
   "metadata": {},
   "source": [
    "Creating a New Folder"
   ]
  },
  {
   "cell_type": "code",
   "execution_count": 13,
   "id": "18e1ea52",
   "metadata": {},
   "outputs": [],
   "source": [
    "os.mkdir(\"my_new_folder\")"
   ]
  },
  {
   "cell_type": "code",
   "execution_count": 10,
   "id": "c4a9232c",
   "metadata": {},
   "outputs": [
    {
     "ename": "FileNotFoundError",
     "evalue": "[WinError 3] The system cannot find the path specified: 'Projects/Week1/Notes'",
     "output_type": "error",
     "traceback": [
      "\u001b[31m---------------------------------------------------------------------------\u001b[39m",
      "\u001b[31mFileNotFoundError\u001b[39m                         Traceback (most recent call last)",
      "\u001b[36mCell\u001b[39m\u001b[36m \u001b[39m\u001b[32mIn[10]\u001b[39m\u001b[32m, line 1\u001b[39m\n\u001b[32m----> \u001b[39m\u001b[32m1\u001b[39m \u001b[43mos\u001b[49m\u001b[43m.\u001b[49m\u001b[43mmkdir\u001b[49m\u001b[43m(\u001b[49m\u001b[33;43m\"\u001b[39;49m\u001b[33;43mProjects/Week1/Notes\u001b[39;49m\u001b[33;43m\"\u001b[39;49m\u001b[43m)\u001b[49m\n",
      "\u001b[31mFileNotFoundError\u001b[39m: [WinError 3] The system cannot find the path specified: 'Projects/Week1/Notes'"
     ]
    }
   ],
   "source": [
    "os.mkdir(\"Projects/Week1/Notes\")"
   ]
  },
  {
   "cell_type": "code",
   "execution_count": 14,
   "id": "4703cc7e",
   "metadata": {},
   "outputs": [],
   "source": [
    "os.makedirs(\"projects/Week1/Notes\")"
   ]
  },
  {
   "cell_type": "markdown",
   "id": "e37346b6",
   "metadata": {},
   "source": [
    "Renaming a File or Folder"
   ]
  },
  {
   "cell_type": "code",
   "execution_count": 15,
   "id": "e2d41a48",
   "metadata": {},
   "outputs": [],
   "source": [
    "os.rename(\"my_new_folder\", \"my_renamed_folder\")"
   ]
  },
  {
   "cell_type": "code",
   "execution_count": 16,
   "id": "c927f954",
   "metadata": {},
   "outputs": [],
   "source": [
    "os.rename(\"notes.txt\", \"to_delete/notes.txt\")"
   ]
  },
  {
   "cell_type": "markdown",
   "id": "fd2bfff2",
   "metadata": {},
   "source": [
    "\n",
    "\n",
    "\n",
    "\n",
    "\n",
    "\n",
    "\n",
    "\n",
    "\n",
    "\n",
    "\n",
    "\n",
    "\n",
    "Deleting a File"
   ]
  },
  {
   "cell_type": "code",
   "execution_count": 17,
   "id": "f21ed67e",
   "metadata": {},
   "outputs": [],
   "source": [
    "os.remove(\"data.txt\")"
   ]
  },
  {
   "cell_type": "markdown",
   "id": "270fbe20",
   "metadata": {},
   "source": [
    "Deleting a Folder"
   ]
  },
  {
   "cell_type": "code",
   "execution_count": 18,
   "id": "19ca3a6b",
   "metadata": {},
   "outputs": [],
   "source": [
    "os.rmdir(\"my_renamed_folder\")"
   ]
  },
  {
   "cell_type": "code",
   "execution_count": 17,
   "id": "de549a85",
   "metadata": {},
   "outputs": [
    {
     "ename": "OSError",
     "evalue": "[WinError 145] The directory is not empty: 'projects/project2'",
     "output_type": "error",
     "traceback": [
      "\u001b[31m---------------------------------------------------------------------------\u001b[39m",
      "\u001b[31mOSError\u001b[39m                                   Traceback (most recent call last)",
      "\u001b[36mCell\u001b[39m\u001b[36m \u001b[39m\u001b[32mIn[17]\u001b[39m\u001b[32m, line 1\u001b[39m\n\u001b[32m----> \u001b[39m\u001b[32m1\u001b[39m \u001b[43mos\u001b[49m\u001b[43m.\u001b[49m\u001b[43mrmdir\u001b[49m\u001b[43m(\u001b[49m\u001b[33;43m\"\u001b[39;49m\u001b[33;43mprojects/project2\u001b[39;49m\u001b[33;43m\"\u001b[39;49m\u001b[43m)\u001b[49m\n",
      "\u001b[31mOSError\u001b[39m: [WinError 145] The directory is not empty: 'projects/project2'"
     ]
    }
   ],
   "source": [
    "os.rmdir(\"projects/project2\")"
   ]
  },
  {
   "cell_type": "markdown",
   "id": "c585bb57",
   "metadata": {},
   "source": [
    "Checking if a Path is a Folder"
   ]
  },
  {
   "cell_type": "code",
   "execution_count": 19,
   "id": "cbfaf2ba",
   "metadata": {},
   "outputs": [
    {
     "name": "stdout",
     "output_type": "stream",
     "text": [
      "Is 'projects/project2' a folder? True\n"
     ]
    }
   ],
   "source": [
    "is_folder = os.path.isdir(\"projects/project2\")\n",
    "\n",
    "print(\"Is 'projects/project2' a folder?\", is_folder)"
   ]
  },
  {
   "cell_type": "code",
   "execution_count": 20,
   "id": "3d1fc91b",
   "metadata": {},
   "outputs": [
    {
     "name": "stdout",
     "output_type": "stream",
     "text": [
      "Is 'os_shutil.ipynb' a folder? False\n"
     ]
    }
   ],
   "source": [
    "is_folder = os.path.isdir(\"os_shutil.ipynb\")\n",
    "\n",
    "print(\"Is 'os_shutil.ipynb' a folder?\", is_folder)"
   ]
  },
  {
   "cell_type": "markdown",
   "id": "1b658bb9",
   "metadata": {},
   "source": [
    "\n",
    "Joining Folder Paths"
   ]
  },
  {
   "cell_type": "code",
   "execution_count": 20,
   "id": "15aeef67",
   "metadata": {},
   "outputs": [
    {
     "name": "stdout",
     "output_type": "stream",
     "text": [
      "to_delete\\temp1.txt\n"
     ]
    }
   ],
   "source": [
    "folder = \"to_delete\"\n",
    "file_name = \"temp1.txt\"\n",
    "\n",
    "path = os.path.join(folder, file_name)\n",
    "print(path)\n"
   ]
  },
  {
   "cell_type": "markdown",
   "id": "24d935fb",
   "metadata": {},
   "source": [
    "Getting File Name and Extension"
   ]
  },
  {
   "cell_type": "code",
   "execution_count": 21,
   "id": "539f8b30",
   "metadata": {},
   "outputs": [
    {
     "name": "stdout",
     "output_type": "stream",
     "text": [
      "Root: projects/project2/main\n",
      "Extension: .py\n"
     ]
    }
   ],
   "source": [
    "root, ext = os.path.splitext(\"projects/project2/main.py\")\n",
    "print(\"Root:\", root)\n",
    "print(\"Extension:\", ext)"
   ]
  },
  {
   "cell_type": "code",
   "execution_count": 22,
   "id": "c2d15fbd",
   "metadata": {},
   "outputs": [
    {
     "name": "stdout",
     "output_type": "stream",
     "text": [
      "Root: os_shutil\n",
      "Extension: .ipynb\n"
     ]
    }
   ],
   "source": [
    "root, ext = os.path.splitext(\"os_shutil.ipynb\")\n",
    "print(\"Root:\", root)\n",
    "print(\"Extension:\", ext)"
   ]
  },
  {
   "cell_type": "code",
   "execution_count": null,
   "id": "9876a972",
   "metadata": {},
   "outputs": [
    {
     "name": "stdout",
     "output_type": "stream",
     "text": [
      "Root: projects/project1\n",
      "Extension: \n"
     ]
    }
   ],
   "source": [
    "root, ext = os.path.splitext(\"projects/project1\")\n",
    "print(\"Root:\", root)\n",
    "print(\"Extension:\", ext)"
   ]
  },
  {
   "cell_type": "code",
   "execution_count": 22,
   "id": "e13db9b0",
   "metadata": {},
   "outputs": [],
   "source": [
    "import shutil"
   ]
  },
  {
   "cell_type": "markdown",
   "id": "4b32ce4b",
   "metadata": {},
   "source": [
    "Copying a File\n"
   ]
  },
  {
   "cell_type": "code",
   "execution_count": 23,
   "id": "702c2ab0",
   "metadata": {},
   "outputs": [
    {
     "data": {
      "text/plain": [
       "'projects/project1\\\\main.py'"
      ]
     },
     "execution_count": 23,
     "metadata": {},
     "output_type": "execute_result"
    }
   ],
   "source": [
    "shutil.copy(\"projects/project2/main.py\", \"projects/project1\")"
   ]
  },
  {
   "cell_type": "code",
   "execution_count": 25,
   "id": "e50b9103",
   "metadata": {},
   "outputs": [
    {
     "data": {
      "text/plain": [
       "'projects/os_shutil_backup.ipynb'"
      ]
     },
     "execution_count": 25,
     "metadata": {},
     "output_type": "execute_result"
    }
   ],
   "source": [
    "shutil.copy(\"os_shutil.ipynb\",\"projects/os_shutil_backup.ipynb\")"
   ]
  },
  {
   "cell_type": "markdown",
   "id": "d7d23b9d",
   "metadata": {},
   "source": [
    "Copying a Folder"
   ]
  },
  {
   "cell_type": "code",
   "execution_count": 26,
   "id": "7d28f35c",
   "metadata": {},
   "outputs": [
    {
     "data": {
      "text/plain": [
       "'new_project'"
      ]
     },
     "execution_count": 26,
     "metadata": {},
     "output_type": "execute_result"
    }
   ],
   "source": [
    "shutil.copytree(\"projects/project1\", \"new_project\")"
   ]
  },
  {
   "cell_type": "markdown",
   "id": "acff1ae2",
   "metadata": {},
   "source": [
    "Moving a File or a Folder"
   ]
  },
  {
   "cell_type": "code",
   "execution_count": 27,
   "id": "d0c816cb",
   "metadata": {},
   "outputs": [
    {
     "data": {
      "text/plain": [
       "'projects/temp1_moved.txt'"
      ]
     },
     "execution_count": 27,
     "metadata": {},
     "output_type": "execute_result"
    }
   ],
   "source": [
    "shutil.move(\"to_delete/temp1.txt\", \"projects/temp1_moved.txt\")"
   ]
  },
  {
   "cell_type": "code",
   "execution_count": null,
   "id": "98ca26e8",
   "metadata": {},
   "outputs": [
    {
     "data": {
      "text/plain": [
       "'new_project\\\\project1'"
      ]
     },
     "execution_count": 28,
     "metadata": {},
     "output_type": "execute_result"
    }
   ],
   "source": [
    "shutil.move(\"projects/project1\", \"new_project\")"
   ]
  },
  {
   "cell_type": "markdown",
   "id": "4e8203ac",
   "metadata": {},
   "source": [
    "Deleting an Entire Folder"
   ]
  },
  {
   "cell_type": "code",
   "execution_count": 29,
   "id": "cfa3f54a",
   "metadata": {},
   "outputs": [],
   "source": [
    "shutil.rmtree(\"to_delete\")"
   ]
  }
 ],
 "metadata": {
  "kernelspec": {
   "display_name": "Python 3",
   "language": "python",
   "name": "python3"
  },
  "language_info": {
   "codemirror_mode": {
    "name": "ipython",
    "version": 3
   },
   "file_extension": ".py",
   "mimetype": "text/x-python",
   "name": "python",
   "nbconvert_exporter": "python",
   "pygments_lexer": "ipython3",
   "version": "3.12.2"
  }
 },
 "nbformat": 4,
 "nbformat_minor": 5
}
